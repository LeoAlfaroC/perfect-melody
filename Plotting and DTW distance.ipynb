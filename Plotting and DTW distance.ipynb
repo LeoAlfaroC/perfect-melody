{
 "cells": [
  {
   "cell_type": "code",
   "execution_count": 1,
   "metadata": {},
   "outputs": [
    {
     "name": "stdout",
     "output_type": "stream",
     "text": [
      "Importing the dtw module. When using in academic works please cite:\n",
      "  T. Giorgino. Computing and Visualizing Dynamic Time Warping Alignments in R: The dtw Package.\n",
      "  J. Stat. Soft., doi:10.18637/jss.v031.i07.\n",
      "\n"
     ]
    }
   ],
   "source": [
    "import essentia.standard\n",
    "import matplotlib.pyplot as plt\n",
    "import numpy as np\n",
    "from dtw import *\n",
    "import os\n",
    "from collections import OrderedDict"
   ]
  },
  {
   "cell_type": "code",
   "execution_count": 2,
   "metadata": {},
   "outputs": [],
   "source": [
    "def get_melody(hum):\n",
    "    loader = essentia.standard.EqloudLoader(filename='dataset/hummings/' + hum, sampleRate=44100)\n",
    "    audio = loader()\n",
    "    pitch_extractor = essentia.standard.PredominantPitchMelodia(frameSize=2048, hopSize=128)\n",
    "    pitch_values, pitch_confidence = pitch_extractor(audio)\n",
    "    \n",
    "    return pitch_values"
   ]
  },
  {
   "cell_type": "code",
   "execution_count": 3,
   "metadata": {},
   "outputs": [],
   "source": [
    "def read_melody_files(filename):\n",
    "    with open(filename) as f:\n",
    "        _notes = f.read()\n",
    "\n",
    "    _notes = _notes.split(',')\n",
    "    return [float(i) for i in _notes]"
   ]
  },
  {
   "cell_type": "code",
   "execution_count": 4,
   "metadata": {},
   "outputs": [],
   "source": [
    "def normalize(series, mmin, mmax):\n",
    "    return [((i-mmin)/(mmax-mmin)) for i in series]"
   ]
  },
  {
   "cell_type": "code",
   "execution_count": 5,
   "metadata": {},
   "outputs": [],
   "source": [
    "def calculate_gradient_vector(melody):\n",
    "    _gradients = []\n",
    "\n",
    "    for index, note in enumerate(melody):\n",
    "        if index == 0:\n",
    "            continue\n",
    "\n",
    "        _gradients.append(note - melody[index - 1])\n",
    "\n",
    "    return _gradients"
   ]
  },
  {
   "cell_type": "code",
   "execution_count": 6,
   "metadata": {},
   "outputs": [],
   "source": [
    "def draw_plot(x1, x2):\n",
    "    x1_data = x1\n",
    "    y1_data = range(len(x1_data))\n",
    "    x2_data = x2\n",
    "    y2_data = range(len(x2_data))\n",
    "\n",
    "    fig, ax = plt.subplots(figsize=(20,10))\n",
    "    ax.plot(y1_data, x1_data, label='Song', color='blue')\n",
    "    ax.plot(y2_data, x2_data, label='Humming', color = 'red')\n",
    "    legend = ax.legend(loc='center right', fontsize='x-large')\n",
    "    plt.xlabel('time')\n",
    "    plt.ylabel('frequency')\n",
    "    plt.title('Comparison of the different frequencies')\n",
    "    plt.show()"
   ]
  },
  {
   "cell_type": "code",
   "execution_count": 7,
   "metadata": {},
   "outputs": [],
   "source": [
    "def calculate_dtw(string1, string2):\n",
    "    return dtw(string1, string2, step_pattern=rabinerJuangStepPattern(6, \"c\"), keep_internals=True, open_begin=True, open_end=True)"
   ]
  },
  {
   "cell_type": "code",
   "execution_count": 9,
   "metadata": {},
   "outputs": [],
   "source": [
    "def process(song_file, humming_file, draw_plots=False, calc_dtw=False):\n",
    "    song = read_melody_files(song_file)\n",
    "    song = np.array(song)\n",
    "    song = song[song != 0]\n",
    "\n",
    "    humming = get_melody(humming_file)\n",
    "    humming = humming[humming != 0]\n",
    "\n",
    "    if draw_plots:\n",
    "        print('Comparacion directa de frecuencias')\n",
    "        draw_plot(song, humming)\n",
    "    \n",
    "    mmax = max(max(song), max(humming))\n",
    "    mmin = min(min(song), min(humming))\n",
    "    norm1 = normalize(song, mmin, mmax)\n",
    "    norm2 = normalize(humming, min(humming), max(humming))#mmin, mmax)\n",
    "    \n",
    "    if draw_plots:\n",
    "        print('Comparacion de frecuencias normalizadas')\n",
    "        draw_plot(norm1, norm2)\n",
    "\n",
    "    grad1 = calculate_gradient_vector(song)\n",
    "    grad2 = calculate_gradient_vector(humming)\n",
    "\n",
    "    if draw_plots:\n",
    "        print('Comparacion de gradientes')\n",
    "        draw_plot(grad1, grad2)\n",
    "\n",
    "    gradnorm1 = calculate_gradient_vector(norm1)\n",
    "    gradnorm2 = calculate_gradient_vector(norm2)\n",
    "\n",
    "    if draw_plots:\n",
    "        print('Comparacion de gradientes de frecuencias normalizadas')\n",
    "        draw_plot(gradnorm1, gradnorm2)\n",
    "    \n",
    "    if calc_dtw:\n",
    "        #print('dtw frecuencias directas:')\n",
    "        #print(calculate_dtw(humming, song).distance)\n",
    "        #print('dtw frecuencias normalizadas:')\n",
    "        #print(calculate_dtw(norm2, norm1).distance)\n",
    "        #print('dtw gradientes:')\n",
    "        #print(calculate_dtw(grad2, grad1).distance)\n",
    "        print(song_file)\n",
    "        dtw_result = calculate_dtw(gradnorm2, gradnorm1)\n",
    "        distance = dtw_result.distance\n",
    "        print(distance)\n",
    "\n",
    "        dtw_result.plot(type=\"twoway\", offset=-2)\n",
    "        \n",
    "        return distance\n",
    "\n",
    "    return -1"
   ]
  },
  {
   "cell_type": "code",
   "execution_count": null,
   "metadata": {
    "scrolled": false
   },
   "outputs": [],
   "source": [
    "#song = 'dataset/melodies/strings/vocals/Adele - Rolling in the Deep.txt'\n",
    "#humming = 'Adele - Rolling In The Deep.wav'\n",
    "\n",
    "#process(song, humming, draw_plots=False, calc_dtw=True)"
   ]
  },
  {
   "cell_type": "code",
   "execution_count": null,
   "metadata": {
    "scrolled": false
   },
   "outputs": [],
   "source": [
    "song = 'dataset/melodies/strings/vocals/Smash Mouth - All Star.txt'\n",
    "humming = 'Smash Mouth - All Star.mp3'\n",
    "\n",
    "process(song, humming, draw_plots=True, calc_dtw=True)"
   ]
  },
  {
   "cell_type": "code",
   "execution_count": null,
   "metadata": {
    "scrolled": false
   },
   "outputs": [],
   "source": [
    "song = 'dataset/melodies/strings/vocals/Enrique Iglesias - Bailando.txt'\n",
    "humming = 'Smash Mouth - All Star.mp3'\n",
    "\n",
    "process(song, humming, draw_plots=True, calc_dtw=True)"
   ]
  },
  {
   "cell_type": "code",
   "execution_count": 10,
   "metadata": {
    "scrolled": false
   },
   "outputs": [
    {
     "name": "stdout",
     "output_type": "stream",
     "text": [
      "dataset/melodies/strings/concatenations/Vanessa Carlton - A Thousand Miles.txt\n",
      "22.592240762366703\n"
     ]
    },
    {
     "data": {
      "image/png": "[encoded data removed]",
      "text/plain": [
       "<Figure size 432x288 with 2 Axes>"
      ]
     },
     "metadata": {
      "needs_background": "light"
     },
     "output_type": "display_data"
    },
    {
     "data": {
      "text/plain": [
       "22.592240762366703"
      ]
     },
     "execution_count": 10,
     "metadata": {},
     "output_type": "execute_result"
    }
   ],
   "source": [
    "song = 'dataset/melodies/strings/concatenations/Vanessa Carlton - A Thousand Miles.txt'\n",
    "humming = 'Vanessa Carlton - A Thousand Miles.mp3'\n",
    "\n",
    "process(song, humming, draw_plots=False, calc_dtw=True)"
   ]
  },
  {
   "cell_type": "code",
   "execution_count": null,
   "metadata": {},
   "outputs": [],
   "source": [
    "hummings_path = os.listdir('dataset/hummings/')\n",
    "hummings = os.listdir('dataset/hummings/')\n",
    "#humming = 'Adele - Rolling In The Deep.wav'\n",
    "\n",
    "vocals_path = 'dataset/melodies/strings/vocals/'\n",
    "vocals = os.listdir(vocals_path)\n",
    "\n",
    "accompaniments_path = 'dataset/melodies/strings/accompaniments/'\n",
    "accompaniments = os.listdir(accompaniments_path)\n",
    "\n",
    "concatenations_path = 'dataset/melodies/strings/concatenations/'\n",
    "concatenations = os.listdir(concatenations_path)\n",
    "\n",
    "for humming in hummings:\n",
    "    if humming != 'Vanessa Carlton - A Thousand Miles.mp3':\n",
    "        continue\n",
    "\n",
    "    print(humming)\n",
    "    results = {}\n",
    "\n",
    "    #for vocal in vocals:\n",
    "        #results['Vocal: ' + vocal] = process(vocals_path + vocal, humming, calc_dtw=True)\n",
    "\n",
    "    #for accompaniment in accompaniments:\n",
    "        #results['Accompaniment: ' + accompaniment] = process(accompaniments_path + accompaniment, humming, calc_dtw=True)\n",
    "        \n",
    "    for concatenation in concatenations:\n",
    "        results['Concatenation: ' + concatenation] = process(concatenations_path + concatenation, humming, calc_dtw=True)\n",
    "\n",
    "    ordered_results = OrderedDict({k: v for k, v in sorted(results.items(), key=lambda item: item[1])})\n",
    "\n",
    "    for key, value in ordered_results.items():\n",
    "        print(value, key)\n",
    "        print(\"----------\")\n",
    "    \n",
    "    print('====================')"
   ]
  }
 ],
 "metadata": {
  "kernelspec": {
   "display_name": "Python 3",
   "language": "python",
   "name": "python3"
  },
  "language_info": {
   "codemirror_mode": {
    "name": "ipython",
    "version": 3
   },
   "file_extension": ".py",
   "mimetype": "text/x-python",
   "name": "python",
   "nbconvert_exporter": "python",
   "pygments_lexer": "ipython3",
   "version": "3.7.9"
  }
 },
 "nbformat": 4,
 "nbformat_minor": 4
}

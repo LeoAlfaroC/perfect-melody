{
 "cells": [
  {
   "cell_type": "code",
   "execution_count": 1,
   "metadata": {},
   "outputs": [],
   "source": [
    "from spleeter.separator import Separator\n",
    "import os"
   ]
  },
  {
   "cell_type": "code",
   "execution_count": 2,
   "metadata": {},
   "outputs": [],
   "source": [
    "separator = Separator('spleeter:2stems')"
   ]
  },
  {
   "cell_type": "code",
   "execution_count": 3,
   "metadata": {},
   "outputs": [],
   "source": [
    "sources = os.listdir('dataset/sources/wavs')"
   ]
  },
  {
   "cell_type": "code",
   "execution_count": 12,
   "metadata": {},
   "outputs": [
    {
     "name": "stdout",
     "output_type": "stream",
     "text": [
      "Chumbawamba - Tubthumping (I Get Knocked Down).mp3\n",
      "INFO:tensorflow:Apply unet for vocals_spectrogram\n",
      "WARNING:tensorflow:From /home/leo/projects/perfect-melody/venv/lib/python3.7/site-packages/tensorflow_core/python/ops/resource_variable_ops.py:1630: calling BaseResourceVariable.__init__ (from tensorflow.python.ops.resource_variable_ops) with constraint is deprecated and will be removed in a future version.\n",
      "Instructions for updating:\n",
      "If using Keras pass *_constraint arguments to layers.\n",
      "INFO:tensorflow:Apply unet for accompaniment_spectrogram\n",
      "WARNING:tensorflow:From /home/leo/projects/perfect-melody/venv/lib/python3.7/site-packages/spleeter/separator.py:158: The name tf.train.Saver is deprecated. Please use tf.compat.v1.train.Saver instead.\n",
      "\n",
      "WARNING:tensorflow:From /home/leo/projects/perfect-melody/venv/lib/python3.7/site-packages/spleeter/separator.py:160: The name tf.Session is deprecated. Please use tf.compat.v1.Session instead.\n",
      "\n",
      "INFO:tensorflow:Restoring parameters from pretrained_models/2stems/model\n",
      "Avicii - Wake Me Up.mp3\n",
      "Toto - Africa.wav\n",
      "Axel F - Crazy Frog.mp3\n",
      "Adele - Rolling in the Deep.mp3\n",
      "yesterday.wav\n",
      "The Beatles - Yesterday.mp3\n",
      "OneRepublic - Counting Stars.wav\n",
      "Vanessa Carlton - A Thousand Miles.mp3\n",
      "Red Hot Chilli Peppers - Californication.mp3\n",
      "Queen - Bohemian Rhapsody.wav\n",
      "Enrique Iglesias - Bailando.mp3\n",
      "Pirates of the Caribbean - He's a pirate.mp3\n",
      "Imagine Dragons - Radioactive.mp3\n",
      "Smash Mouth - All Star.wav\n",
      "Red Hot Chilli Peppers - Can't Stop.wav\n",
      "Backstreet Boys - I Want It That Way.mp3\n",
      "Coldplay - Clocks.mp3\n",
      "Queen -  We  Will Rock You.mp3\n",
      "Lady Gaga - Poker Face.mp3\n"
     ]
    }
   ],
   "source": [
    "for song in sources:\n",
    "    print(song)\n",
    "    separator.separate_to_file('dataset/sources/wavs/' + song, 'dataset/results')"
   ]
  },
  {
   "cell_type": "code",
   "execution_count": 38,
   "metadata": {
    "scrolled": false
   },
   "outputs": [],
   "source": [
    "cwd = os.getcwd()\n",
    "\n",
    "for root, subdirs, files in os.walk('dataset/results/'):\n",
    "    separator = root.rfind('/')\n",
    "    songname = root[separator + 1:]\n",
    "\n",
    "    for file in files:\n",
    "        if (file == 'accompaniment.wav'):\n",
    "            source = os.path.join(cwd, root, file)\n",
    "            destination = os.path.join(cwd, 'dataset/results/accompaniments/', songname + '.wav')\n",
    "            os.rename(source, destination)\n",
    "        elif(file == 'vocals.wav'):\n",
    "            source = os.path.join(cwd, root, file)\n",
    "            destination = os.path.join(cwd, 'dataset/results/vocals/', songname + '.wav')\n",
    "            os.rename(source, destination)"
   ]
  }
 ],
 "metadata": {
  "kernelspec": {
   "display_name": "Python 3",
   "language": "python",
   "name": "python3"
  },
  "language_info": {
   "codemirror_mode": {
    "name": "ipython",
    "version": 3
   },
   "file_extension": ".py",
   "mimetype": "text/x-python",
   "name": "python",
   "nbconvert_exporter": "python",
   "pygments_lexer": "ipython3",
   "version": "3.7.9"
  }
 },
 "nbformat": 4,
 "nbformat_minor": 4
}

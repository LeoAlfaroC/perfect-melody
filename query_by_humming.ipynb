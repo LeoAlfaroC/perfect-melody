{
 "cells": [
  {
   "cell_type": "code",
   "execution_count": 102,
   "metadata": {},
   "outputs": [],
   "source": [
    "import essentia.standard\n",
    "from dtw import *\n",
    "import os\n",
    "import pretty_midi\n",
    "from time import time\n",
    "import tslearn.metrics"
   ]
  },
  {
   "cell_type": "code",
   "execution_count": 103,
   "metadata": {},
   "outputs": [],
   "source": [
    "def writeMidi(pitch_sequence, onset, duration, filename):\n",
    "    new_mid = pretty_midi.PrettyMIDI()\n",
    "    new_ch = pretty_midi.Instrument(0)\n",
    "    for x in range(0, len(pitch_sequence)):\n",
    "        note = pretty_midi.Note(pitch=int(pitch_sequence[x]), velocity=100, start=onset[x], end=onset[x]+duration[x])\n",
    "        new_ch.notes.append(note)\n",
    "    new_mid.instruments.append(new_ch)\n",
    "    new_mid.write('melodies_midi/' + filename + '.mid')"
   ]
  },
  {
   "cell_type": "code",
   "execution_count": 104,
   "metadata": {},
   "outputs": [],
   "source": [
    "def calculate_gradient_vector(melody):\n",
    "    _gradients = []\n",
    "\n",
    "    for index, note in enumerate(melody):\n",
    "        if index == 0:\n",
    "            continue\n",
    "\n",
    "        _gradients.append(note - melody[index - 1])\n",
    "\n",
    "    return _gradients"
   ]
  },
  {
   "cell_type": "code",
   "execution_count": 105,
   "metadata": {},
   "outputs": [],
   "source": [
    "loader = essentia.standard.EqloudLoader(filename='hummings/counting_stars.wav', sampleRate=44100)\n",
    "audio = loader()\n",
    "pitch_extractor = essentia.standard.PredominantPitchMelodia(frameSize=2048, hopSize=128)\n",
    "pitch_values, pitch_confidence = pitch_extractor(audio)\n",
    "contour_extractor = essentia.standard.PitchContourSegmentation()\n",
    "onset, duration, MIDI_pitch = contour_extractor(pitch_values, audio)\n",
    "gradient_query = calculate_gradient_vector(MIDI_pitch)"
   ]
  },
  {
   "cell_type": "code",
   "execution_count": 106,
   "metadata": {},
   "outputs": [],
   "source": [
    "melodies = os.listdir('vocals/')"
   ]
  },
  {
   "cell_type": "code",
   "execution_count": 107,
   "metadata": {
    "scrolled": true
   },
   "outputs": [
    {
     "name": "stdout",
     "output_type": "stream",
     "text": [
      "all_star.wav\n",
      "0.002477407455444336\n",
      "256.0\n",
      "cant_stop.wav\n",
      "0.0027222633361816406\n",
      "235.0\n",
      "chumbawamba.wav\n",
      "0.0025517940521240234\n",
      "321.0\n",
      "counting_stars.wav\n",
      "0.0030977725982666016\n",
      "232.0\n",
      "radioactive.wav\n",
      "0.002036571502685547\n",
      "228.0\n"
     ]
    }
   ],
   "source": [
    "for cancion in melodies:\n",
    "    loader_db = essentia.standard.EqloudLoader(filename=\"vocals/\" + cancion, sampleRate=44100)\n",
    "    audio_db = loader_db()\n",
    "    pitch_extractor_db = essentia.standard.PredominantPitchMelodia()\n",
    "    pitch_values_db, pitch_confidence_db = pitch_extractor_db(audio_db)\n",
    "    #print(type(pitch_values_db))\n",
    "    contour_extractor_db = essentia.standard.PitchContourSegmentation()\n",
    "    onset_db, duration_db, MIDI_pitch_db = contour_extractor_db(pitch_values_db, audio_db)\n",
    "    gradient_db = calculate_gradient_vector(MIDI_pitch_db)\n",
    "    #writeMidi(MIDI_pitch_db, onset_db, duration_db, cancion)\n",
    "    start_time=time()\n",
    "    #alignment = dtw(pitch_values[pitch_values != 0], pitch_values_db[pitch_values_db != 0], step_pattern=rabinerJuangStepPattern(6, \"c\"), keep_internals=True, open_begin=True, open_end=True)\n",
    "    #alignment = dtw(MIDI_pitch, MIDI_pitch_db, step_pattern=rabinerJuangStepPattern(6, \"c\"), keep_internals=True, open_begin=True, open_end=True)\n",
    "    #alignment = dtw(MIDI_pitch, MIDI_pitch_db, keep_internals=True, open_end=True)\n",
    "    alignment = dtw(gradient_query, gradient_db, keep_internals=True, open_end=True)\n",
    "    #path, distance = tslearn.metrics.dtw_subsequence_path(MIDI_pitch, MIDI_pitch_db)\n",
    "    #path, distance = tslearn.metrics.dtw_subsequence_path(gradient_query, gradient_db)\n",
    "    #path, distance = tslearn.metrics.dtw_subsequence_path(pitch_values[pitch_values != 0], pitch_values_db[pitch_values_db != 0])\n",
    "    elapsed_time=time()-start_time\n",
    "    print(cancion)\n",
    "    print(elapsed_time)\n",
    "    print(alignment.distance)"
   ]
  }
 ],
 "metadata": {
  "kernelspec": {
   "display_name": "Python 3",
   "language": "python",
   "name": "python3"
  },
  "language_info": {
   "codemirror_mode": {
    "name": "ipython",
    "version": 3
   },
   "file_extension": ".py",
   "mimetype": "text/x-python",
   "name": "python",
   "nbconvert_exporter": "python",
   "pygments_lexer": "ipython3",
   "version": "3.7.9"
  }
 },
 "nbformat": 4,
 "nbformat_minor": 4
}

{
 "cells": [
  {
   "cell_type": "code",
   "execution_count": 1,
   "metadata": {},
   "outputs": [
    {
     "name": "stdout",
     "output_type": "stream",
     "text": [
      "Importing the dtw module. When using in academic works please cite:\n",
      "  T. Giorgino. Computing and Visualizing Dynamic Time Warping Alignments in R: The dtw Package.\n",
      "  J. Stat. Soft., doi:10.18637/jss.v031.i07.\n",
      "\n"
     ]
    }
   ],
   "source": [
    "import essentia.standard\n",
    "from dtw import *\n",
    "import os\n",
    "import pretty_midi\n",
    "from time import time\n",
    "import tslearn.metrics\n",
    "import matplotlib.pyplot as plt\n",
    "from collections import OrderedDict"
   ]
  },
  {
   "cell_type": "code",
   "execution_count": null,
   "metadata": {},
   "outputs": [],
   "source": [
    "def writeMidi(pitch_sequence, onset, duration, filename):\n",
    "    new_mid = pretty_midi.PrettyMIDI()\n",
    "    new_ch = pretty_midi.Instrument(0)\n",
    "    for x in range(0, len(pitch_sequence)):\n",
    "        note = pretty_midi.Note(pitch=int(pitch_sequence[x]), velocity=100, start=onset[x], end=onset[x]+duration[x])\n",
    "        new_ch.notes.append(note)\n",
    "    new_mid.instruments.append(new_ch)\n",
    "    new_mid.write('melodies_midi/' + filename + '.mid')"
   ]
  },
  {
   "cell_type": "code",
   "execution_count": null,
   "metadata": {},
   "outputs": [],
   "source": [
    "def calculate_gradient_vector(melody):\n",
    "    _gradients = []\n",
    "\n",
    "    for index, note in enumerate(melody):\n",
    "        if index == 0:\n",
    "            continue\n",
    "\n",
    "        _gradients.append(note - melody[index - 1])\n",
    "\n",
    "    return _gradients"
   ]
  },
  {
   "cell_type": "code",
   "execution_count": 2,
   "metadata": {},
   "outputs": [],
   "source": [
    "def read_melody_files(filename):\n",
    "    with open(filename) as f:\n",
    "        _notes = f.read()\n",
    "\n",
    "    _notes = _notes.split(',')\n",
    "    return [float(i) for i in _notes]"
   ]
  },
  {
   "cell_type": "code",
   "execution_count": 3,
   "metadata": {},
   "outputs": [],
   "source": [
    "def arrange_results(results):\n",
    "    return results.sort(key=lambda x: x[0].distance)"
   ]
  },
  {
   "cell_type": "code",
   "execution_count": 4,
   "metadata": {},
   "outputs": [],
   "source": [
    "melodies = os.listdir('strings/')\n",
    "hummings = os.listdir('hummings/')"
   ]
  },
  {
   "cell_type": "code",
   "execution_count": null,
   "metadata": {
    "scrolled": false
   },
   "outputs": [],
   "source": [
    "for hum in hummings:\n",
    "    results = {}\n",
    "    print(\"........\" + hum + \"........\")\n",
    "    print(\"----------\")\n",
    "    loader = essentia.standard.EqloudLoader(filename='hummings/' + hum, sampleRate=44100)\n",
    "    audio = loader()\n",
    "    pitch_extractor = essentia.standard.PredominantPitchMelodia(frameSize=2048, hopSize=128)\n",
    "    pitch_values, pitch_confidence = pitch_extractor(audio)\n",
    "    #contour_extractor = essentia.standard.PitchContourSegmentation()\n",
    "    #onset, duration, MIDI_pitch = contour_extractor(pitch_values, audio)\n",
    "    #gradient_query = calculate_gradient_vector(MIDI_pitch)\n",
    "    for melodie in melodies:\n",
    "        pitch_values_db = read_melody_files('strings/' + melodie)\n",
    "        #print(type(pitch_values_db))\n",
    "        #contour_extractor_db = essentia.standard.PitchContourSegmentation()\n",
    "        #onset_db, duration_db, MIDI_pitch_db = contour_extractor_db(pitch_values_db, audio_db)\n",
    "        #gradient_db = calculate_gradient_vector(MIDI_pitch_db)\n",
    "        #writeMidi(MIDI_pitch_db, onset_db, duration_db, cancion)\n",
    "        #start_time=time()\n",
    "        alignment = dtw(pitch_values[pitch_values != 0], pitch_values_db, step_pattern=rabinerJuangStepPattern(6, \"c\"), keep_internals=True, open_begin=True, open_end=True)\n",
    "        results[melodie] = alignment.distance\n",
    "        #alignment = dtw(pitch_values[pitch_values != 0], pitch_values_db[pitch_values_db != 0], keep_internals=True, open_end=True)\n",
    "        #alignment.plot(type=\"twoway\",offset=-2)\n",
    "        #alignment = dtw(MIDI_pitch, MIDI_pitch_db, step_pattern=rabinerJuangStepPattern(6, \"c\"), keep_internals=True, open_begin=True, open_end=True)\n",
    "        #alignment = dtw(MIDI_pitch, MIDI_pitch_db, keep_internals=True, open_end=True)\n",
    "        #alignment = dtw(gradient_query, gradient_db, keep_internals=True, open_end=True)\n",
    "        #path, distance = tslearn.metrics.dtw_subsequence_path(MIDI_pitch, MIDI_pitch_db)\n",
    "        #path, distance = tslearn.metrics.dtw_subsequence_path(gradient_query, gradient_db)\n",
    "        #path, distance = tslearn.metrics.dtw_subsequence_path(pitch_values[pitch_values != 0], pitch_values_db[pitch_values_db != 0])\n",
    "        #elapsed_time=time()-start_time\n",
    "        #print(cancion)\n",
    "        #print(elapsed_time)\n",
    "        #print(alignment.distance)\n",
    "    ordered_results = OrderedDict({k: v for k, v in sorted(results.items(), key=lambda item: item[1])})\n",
    "    for key, value in ordered_results.items():\n",
    "        print(value, key)\n",
    "        print(\"----------\")\n",
    "    print(\"================================\")"
   ]
  },
  {
   "cell_type": "code",
   "execution_count": null,
   "metadata": {
    "scrolled": false
   },
   "outputs": [
    {
     "name": "stdout",
     "output_type": "stream",
     "text": [
      "........Adele - Rolling In The Deep.wav........\n",
      "----------\n"
     ]
    }
   ],
   "source": [
    "for hum in hummings:\n",
    "    results = {}\n",
    "    print(\"........\" + hum + \"........\")\n",
    "    print(\"----------\")\n",
    "    loader = essentia.standard.EqloudLoader(filename='hummings/' + hum, sampleRate=44100)\n",
    "    audio = loader()\n",
    "    pitch_extractor = essentia.standard.PredominantPitchMelodia(frameSize=2048, hopSize=128)\n",
    "    pitch_values, pitch_confidence = pitch_extractor(audio)\n",
    "    #contour_extractor = essentia.standard.PitchContourSegmentation()\n",
    "    #onset, duration, MIDI_pitch = contour_extractor(pitch_values, audio)\n",
    "    #gradient_query = calculate_gradient_vector(MIDI_pitch)\n",
    "    for melodie in melodies:\n",
    "        pitch_values_db = read_melody_files('strings/' + melodie)\n",
    "        #print(type(pitch_values_db))\n",
    "        #contour_extractor_db = essentia.standard.PitchContourSegmentation()\n",
    "        #onset_db, duration_db, MIDI_pitch_db = contour_extractor_db(pitch_values_db, audio_db)\n",
    "        #gradient_db = calculate_gradient_vector(MIDI_pitch_db)\n",
    "        #writeMidi(MIDI_pitch_db, onset_db, duration_db, cancion)\n",
    "        #start_time=time()\n",
    "        alignment = dtw(pitch_values, pitch_values_db, step_pattern=rabinerJuangStepPattern(6, \"c\"), keep_internals=True, open_begin=True, open_end=True)\n",
    "        results[melodie] = alignment.distance\n",
    "        #alignment = dtw(pitch_values[pitch_values != 0], pitch_values_db[pitch_values_db != 0], keep_internals=True, open_end=True)\n",
    "        #alignment.plot(type=\"twoway\",offset=-2)\n",
    "        #alignment = dtw(MIDI_pitch, MIDI_pitch_db, step_pattern=rabinerJuangStepPattern(6, \"c\"), keep_internals=True, open_begin=True, open_end=True)\n",
    "        #alignment = dtw(MIDI_pitch, MIDI_pitch_db, keep_internals=True, open_end=True)\n",
    "        #alignment = dtw(gradient_query, gradient_db, keep_internals=True, open_end=True)\n",
    "        #path, distance = tslearn.metrics.dtw_subsequence_path(MIDI_pitch, MIDI_pitch_db)\n",
    "        #path, distance = tslearn.metrics.dtw_subsequence_path(gradient_query, gradient_db)\n",
    "        #path, distance = tslearn.metrics.dtw_subsequence_path(pitch_values[pitch_values != 0], pitch_values_db[pitch_values_db != 0])\n",
    "        #elapsed_time=time()-start_time\n",
    "        #print(cancion)\n",
    "        #print(elapsed_time)\n",
    "        #print(alignment.distance)\n",
    "    ordered_results = OrderedDict({k: v for k, v in sorted(results.items(), key=lambda item: item[1])})\n",
    "    for key, value in ordered_results.items():\n",
    "        print(value, key)\n",
    "        print(\"----------\")\n",
    "    print(\"================================\")"
   ]
  }
 ],
 "metadata": {
  "kernelspec": {
   "display_name": "Python 3",
   "language": "python",
   "name": "python3"
  },
  "language_info": {
   "codemirror_mode": {
    "name": "ipython",
    "version": 3
   },
   "file_extension": ".py",
   "mimetype": "text/x-python",
   "name": "python",
   "nbconvert_exporter": "python",
   "pygments_lexer": "ipython3",
   "version": "3.7.9"
  }
 },
 "nbformat": 4,
 "nbformat_minor": 4
}
